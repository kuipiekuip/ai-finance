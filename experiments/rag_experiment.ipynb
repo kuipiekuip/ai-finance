{
 "cells": [
  {
   "cell_type": "code",
   "execution_count": 30,
   "metadata": {},
   "outputs": [
    {
     "name": "stdout",
     "output_type": "stream",
     "text": [
      "9\n"
     ]
    }
   ],
   "source": [
    "from langchain_community.document_loaders import PyPDFLoader\n",
    "\n",
    "file_path = \"./palantir_q4.pdf\"\n",
    "loader = PyPDFLoader(file_path)\n",
    "\n",
    "docs = loader.load()\n",
    "\n",
    "print(len(docs))"
   ]
  },
  {
   "cell_type": "code",
   "execution_count": 31,
   "metadata": {},
   "outputs": [],
   "source": [
    "import getpass\n",
    "import os\n",
    "\n",
    "os.environ[\"GROQ_API_KEY\"] = \"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\"\n",
    "\n",
    "from langchain_groq import ChatGroq\n",
    "\n",
    "llm = ChatGroq(model=\"llama3-8b-8192\")"
   ]
  },
  {
   "cell_type": "code",
   "execution_count": 32,
   "metadata": {},
   "outputs": [],
   "source": [
    "from langchain_chroma import Chroma\n",
    "from langchain_huggingface import HuggingFaceEmbeddings\n",
    "from langchain_text_splitters import RecursiveCharacterTextSplitter\n",
    "\n",
    "text_splitter = RecursiveCharacterTextSplitter(chunk_size=5000, chunk_overlap=0)\n",
    "splits = text_splitter.split_documents(docs)\n",
    "vectorstore = Chroma.from_documents(documents=splits, embedding=HuggingFaceEmbeddings())\n",
    "\n",
    "retriever = vectorstore.as_retriever()"
   ]
  },
  {
   "cell_type": "code",
   "execution_count": 40,
   "metadata": {},
   "outputs": [
    {
     "data": {
      "text/plain": [
       "{'input': 'What is the net income for 2024 and what only for the quarter? Round the numbers to the nearest million.',\n",
       " 'context': [Document(id='58634c3e-73cf-4b25-a574-5b4e76d4d655', metadata={'creationdate': '2025-03-08T11:47:47+00:00', 'creator': 'Mozilla/5.0 (Macintosh; Intel Mac OS X 10_15_7) AppleWebKit/537.36 (KHTML, like Gecko) Chrome/133.0.0.0 Safari/537.36', 'moddate': '2025-03-08T11:47:47+00:00', 'page': 0, 'page_label': '1', 'producer': 'Skia/PDF m133', 'source': './palantir_q4.pdf', 'title': 'Palantir IR - News', 'total_pages': 9}, page_content='GAAP net income of $79 million, representing a 10% margin\\n$165 million of net income when excluding one-time SAR-related expenses, representing a 20%\\nmargin\\nGAAP income from operations of $11 million, representing a 1% margin\\n$142 million of income from operations when excluding one-time SAR-related expenses,\\nrepresenting a 17% margin\\nAdjusted income from operations of $373 million, representing a 45% margin\\nRule of 40 score of 81%\\nGAAP earnings per share (“EPS”) of $0.03\\n$0.07 EPS when excluding one-time SAR-related expenses\\nAdjusted EPS of $0.14\\nCash, cash equivalents, and short-term U.S. Treasury securities of $5.2 billion\\nFY 2024 Highlights\\nU.S. revenue grew 38% year-over-year to $1.90 billion\\nU.S. commercial revenue grew 54% year-over-year to $702 million\\nU.S. government revenue grew 30% year-over-year to $1.20 billion\\nRevenue grew 29% year-over-year to $2.87 billion\\nCash from operations of $1.15 billion, representing a 40% margin'),\n",
       "  Document(id='990ba76d-c3bf-4bc9-86e1-6e4e4bd520f4', metadata={'creationdate': '2025-03-08T11:47:47+00:00', 'creator': 'Mozilla/5.0 (Macintosh; Intel Mac OS X 10_15_7) AppleWebKit/537.36 (KHTML, like Gecko) Chrome/133.0.0.0 Safari/537.36', 'moddate': '2025-03-08T11:47:47+00:00', 'page': 1, 'page_label': '2', 'producer': 'Skia/PDF m133', 'source': './palantir_q4.pdf', 'title': 'Palantir IR - News', 'total_pages': 9}, page_content='(Amounts in thousands, except\\npercentages and per share amounts)\\nFourth Quarter Full Year 2024\\nAmount Amount\\nRevenue $ 827,519 $ 2,865,507\\nYear-over-year growth 36% 29%\\nAmount Margin Amount Margin\\nIncome from Operations $ 11,043 1%$ 310,403 11%\\nAdjusted Income from Operations$ 372,522 45%$ 1,128,062 39%\\nCash from Operations $ 460,327 56%$ 1,153,865 40%\\nAdjusted Free Cash Flow $ 517,385 63%$ 1,249,222 44%\\nNet Income Attributable to Common\\nStockholders $ 79,009 10%$ 462,190 16%\\nAdjusted Net Income Attributable to\\nCommon Stockholders $ 341,947 $ 1,001,849\\nAdjusted EBITDA $ 379,528 46%$ 1,159,649 40%\\nGAAP EPS, Diluted $ 0.03 $ 0.19\\nAdjusted EPS, Diluted $ 0.14 $ 0.41\\nOutlook\\nFor Q1 2025, we expect:\\nRevenue of between $858 - $862 million.\\nAdjusted income from operations of between $354 - $358 million.\\nFor full year 2025, we expect:\\nRevenue of between $3.741 - $3.757 billion.\\nU.S. commercial revenue in excess of $1.079 billion, representing a growth rate of at least 54%.'),\n",
       "  Document(id='6fef936c-0b2b-40da-ba43-eed09115e332', metadata={'creationdate': '2025-03-08T11:47:47+00:00', 'creator': 'Mozilla/5.0 (Macintosh; Intel Mac OS X 10_15_7) AppleWebKit/537.36 (KHTML, like Gecko) Chrome/133.0.0.0 Safari/537.36', 'moddate': '2025-03-08T11:47:47+00:00', 'page': 8, 'page_label': '9', 'producer': 'Skia/PDF m133', 'source': './palantir_q4.pdf', 'title': 'Palantir IR - News', 'total_pages': 9}, page_content='Add: stock-based compensation 281,798 132,608 691,638 475,903\\nAdd: employer payroll taxes related to stock-\\nbased compensation 79,681 10,953 126,021 36,907\\nLess: income tax effects and adjustments\\xa0 ( 1 ) (98,541) (47,312) (278,000) (151,026)\\nAdjusted net income attributable to common\\nstockholders, diluted $ 341,947$ 189,640$ 1,001,849$ 571,609\\nAdjusted weighted-average shares used in\\ncomputing adjusted earnings per share,\\ndiluted 2,528,279 2,357,741 2,450,818 2,297,928\\nAdjusted earnings per share, diluted$ 0.14$ 0.08$ 0.41$ 0.25\\n( 1 ) Income tax effect is based on long-term estimated annual effective tax rates of 23.0% for the\\nperiods ended 2024 and 2023.\\nNet Income When Excluding One-Time SAR-Related Expenses and Earnings Per Share When\\nExcluding One-Time SAR-Related Expenses, Diluted (in thousands, except per share amounts and\\npercentages)\\nThree Months\\nEnded\\nD\\xa0ecember\\n31, 2024\\nNet income attributable to common stockholders $ 79,009'),\n",
       "  Document(id='cfbaf3ba-ebfb-4593-beb4-9078462f7f9b', metadata={'creationdate': '2025-03-08T11:47:47+00:00', 'creator': 'Mozilla/5.0 (Macintosh; Intel Mac OS X 10_15_7) AppleWebKit/537.36 (KHTML, like Gecko) Chrome/133.0.0.0 Safari/537.36', 'moddate': '2025-03-08T11:47:47+00:00', 'page': 8, 'page_label': '9', 'producer': 'Skia/PDF m133', 'source': './palantir_q4.pdf', 'title': 'Palantir IR - News', 'total_pages': 9}, page_content='Less: interest income (54,727) (44,545) (196,792) (132,572)\\nAdd: other (income) expense, net (14,768) 4,092 18,022 15,447\\nAdd: provision for income taxes 3,602 9,334 21,255 19,716\\nAdd: depreciation and amortization 7,006 7,972 31,587 33,354\\nAdd: stock-based compensation 281,798 132,608 691,638 475,903\\nAdd: employer payroll taxes related to\\nstock-based compensation 79,681 10,953 126,021 36,907\\nAdjusted EBITDA $ 379,528$ 217,327$ 1,159,649$ 666,130\\nAdjusted EBITDA margin 46% 36% 40% 30%\\nAdjusted Net Income and Adjusted Earnings Per Share, Diluted (in thousands, except per share\\namounts and percentages)\\nThree Months Ended\\nD\\xa0ecember 31,\\nYears Ended\\nD\\xa0ecember 31,\\n2024 2023 2024 2023\\nNet income attributable to common\\nstockholders $ 79,009$ 93,391$ 462,190$ 209,825\\nAdd: stock-based compensation 281,798 132,608 691,638 475,903\\nAdd: employer payroll taxes related to stock-\\nbased compensation 79,681 10,953 126,021 36,907')],\n",
       " 'answer': 'According to the report, the net income for 2024 is approximately $462 million.\\n\\nThe net income for the quarter (Q4 2024) is approximately $79 million.'}"
      ]
     },
     "execution_count": 40,
     "metadata": {},
     "output_type": "execute_result"
    }
   ],
   "source": [
    "from langchain.chains import create_retrieval_chain\n",
    "from langchain.chains.combine_documents import create_stuff_documents_chain\n",
    "from langchain_core.prompts import ChatPromptTemplate\n",
    "\n",
    "system_prompt = (\n",
    "    \"You are a financial analysis AI assistant specializing in extracting key financial metrics from corporate earnings reports, investor presentations, and financial statements. Your task is to extract and summarize only the most relevant numerical data that investors care about. Focus on revenue, profit, cash flow, margins, shareholder returns, customer growth, and balance sheet strength. \"\n",
    "    \"\\n\\n\"\n",
    "    \"{context}\"\n",
    ")\n",
    "\n",
    "prompt = ChatPromptTemplate.from_messages(\n",
    "    [\n",
    "        (\"system\", system_prompt),\n",
    "        (\"human\", \"{input}\"),\n",
    "    ]\n",
    ")\n",
    "\n",
    "\n",
    "question_answer_chain = create_stuff_documents_chain(llm, prompt)\n",
    "rag_chain = create_retrieval_chain(retriever, question_answer_chain)\n",
    "\n",
    "results = rag_chain.invoke({\"input\": \"What is the net income for 2024 and what only for the quarter? Round the numbers to the nearest million.\"})\n",
    "\n",
    "results"
   ]
  },
  {
   "cell_type": "code",
   "execution_count": 29,
   "metadata": {},
   "outputs": [
    {
     "data": {
      "text/plain": [
       "\"<think>\\nOkay, so the user has provided a bunch of financial data and asked me to extract the key metrics. Let me start by reading through the data carefully. I see there are sections related to cash flow, income, and other financial statements. \\n\\nFirst, I notice the net cash provided by operating activities is $1,153,865 for 2024 and $712,183 for 2023. That's a significant increase, so that's definitely important for cash flow. Then, under investing activities, there are purchases and proceeds from marketable securities. The net investing activities show a use of funds, which might indicate investments in the business or marketable securities.\\n\\nLooking at the adjusted EBITDA, it's $1,159,649 for 2024 and $666,130 for 2023. The margin improved from 30% to 40%, which is a positive sign. The net income is also up, $462,190 from $209,825, showing growth in profitability. \\n\\nI also see the diluted EPS increased, which is good for shareholders. The stock-based compensation is a big part of the expenses, so that's something to note because it affects net income but isn't a cash expense.\\n\\nCustomer growth isn't directly provided, but the deferred revenue and customer deposits are up, suggesting more customers or higher sales. The balance sheet isn't fully detailed, but the cash flow from operations is strong, which is a good indicator of financial health.\\n\\nI should summarize all these points, focusing on the metrics investors care about most: revenue, profit, cash flow, margins, returns, customer growth, and balance sheet strength. Even though revenue isn't explicitly stated, the deferred revenue and deposits might imply revenue growth. \\n\\nI'll structure the summary with clear headings for each metric, making sure to highlight the year-over-year changes and percentages where possible. This will give the user a concise and informative overview of the company's financial performance.\\n</think>\\n\\n### Key Financial Metrics Summary:\\n\\n#### **Cash Flow:**\\n- **Net Cash Provided by Operating Activities:** $1,153,865 (2024) vs. $712,183 (2023)  \\n- **Net Cash Used in Investing Activities:** $(1,338,040) (2024) vs. $(1,761,252) (2023)  \\n  - Includes purchases of marketable securities and property/equipment, offset by proceeds from sales/redemption of marketable securities.\\n\\n#### **Profitability:**\\n- **Adjusted EBITDA:** $1,159,649 (2024) vs. $666,130 (2023)  \\n- **Adjusted EBITDA Margin:** 40% (2024) vs. 30% (2023)  \\n- **Net Income Attributable to Common Stockholders:** $462,190 (2024) vs. $209,825 (2023)  \\n\\n#### **Shareholder Returns:**\\n- **Earnings Per Share (Diluted):** $0.19 (2024) vs. $0.09 (2023)  \\n- **Weighted-Average Diluted Shares Outstanding:** 2,450,818 (2024) vs. 2,297,927 (2023)  \\n\\n#### **Customer Growth and Revenue:**\\n- While direct customer numbers are not provided, deferred revenue and customer deposits increased significantly:  \\n  - **Deferred Revenue, Current and Noncurrent:** $22,356 (2024) vs. $79,512 (2023)  \\n  - **Customer Deposits, Current and Noncurrent:** $54,440 (2024) vs. $64,347 (2023)  \\n\\n#### **Balance Sheet Strength:**\\n- **Cash Flow from Operations:** $1,153,865 (2024) vs. $712,183 (2023), indicating strong operational cash generation.  \\n- **Investing Activities:** The company invested heavily in marketable securities and property/equipment, but this was partially offset by proceeds from sales of marketable securities.  \\n\\n#### **Stock-Based Compensation and Operating Efficiency:**\\n- **Stock-Based Compensation Expense:** $691,638 (2024) vs. $475,903 (2023)  \\n- **Adjusted Net Income:** Reflects additions for stock-based compensation and employer payroll taxes related to stock-based compensation, highlighting the impact of equity-based incentives on profitability.  \\n\\nThis summary captures the most relevant financial metrics for investors, focusing on growth, profitability, cash flow, and balance sheet health.\""
      ]
     },
     "execution_count": 29,
     "metadata": {},
     "output_type": "execute_result"
    }
   ],
   "source": [
    "results[\"answer\"]"
   ]
  },
  {
   "cell_type": "code",
   "execution_count": null,
   "metadata": {},
   "outputs": [],
   "source": []
  }
 ],
 "metadata": {
  "kernelspec": {
   "display_name": "ml_env",
   "language": "python",
   "name": "python3"
  },
  "language_info": {
   "codemirror_mode": {
    "name": "ipython",
    "version": 3
   },
   "file_extension": ".py",
   "mimetype": "text/x-python",
   "name": "python",
   "nbconvert_exporter": "python",
   "pygments_lexer": "ipython3",
   "version": "3.12.2"
  }
 },
 "nbformat": 4,
 "nbformat_minor": 2
}
